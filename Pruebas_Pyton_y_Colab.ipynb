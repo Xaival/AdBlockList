{
  "nbformat": 4,
  "nbformat_minor": 0,
  "metadata": {
    "colab": {
      "name": "Pruebas Pyton y Colab.ipynb",
      "provenance": [],
      "collapsed_sections": [
        "B4vFDai81JIA",
        "TAjcEKoM2QHa"
      ],
      "toc_visible": true,
      "authorship_tag": "ABX9TyOluJ4kDXhW7xy32orcF/be",
      "include_colab_link": true
    },
    "kernelspec": {
      "name": "python3",
      "display_name": "Python 3"
    },
    "language_info": {
      "name": "python"
    }
  },
  "cells": [
    {
      "cell_type": "markdown",
      "metadata": {
        "id": "view-in-github",
        "colab_type": "text"
      },
      "source": [
        "<a href=\"https://colab.research.google.com/github/Xaival/AdBlockList/blob/main/Pruebas_Pyton_y_Colab.ipynb\" target=\"_parent\"><img src=\"https://colab.research.google.com/assets/colab-badge.svg\" alt=\"Open In Colab\"/></a>"
      ]
    },
    {
      "cell_type": "markdown",
      "source": [
        "#Tratamiento de texto en Google Colab"
      ],
      "metadata": {
        "id": "B4vFDai81JIA"
      }
    },
    {
      "cell_type": "markdown",
      "source": [
        "##Efectos de texto\n",
        "###Negrita\n",
        "**Negrita** para que salga de esta manera es necesario escribirlo así \\*\\*Negrita**.\n",
        "\n",
        "###Itálica\n",
        "*Itálica* para que salga de esta manera es necesario escribirlo así \\*Itálica*.\n",
        "\n",
        "###Subrayado\n",
        "``Subrayado`` para que salga de esta manera es necesario escribirlo así  \\``Subrayado``.\n",
        "\n",
        "###Títulos\n",
        "Estos se ponen usando # para el primero, ## para el segundo, Etc.<br><br>\n",
        "\n",
        "---"
      ],
      "metadata": {
        "id": "qh2iCkAM08T0"
      }
    },
    {
      "cell_type": "markdown",
      "source": [
        "##Caracteres especiales\n",
        "Para escribir caracteres especiales hay que poner delante \\\\ para que salga.<br><br>\n",
        "\n",
        "---"
      ],
      "metadata": {
        "id": "qJZP-iis1CeQ"
      }
    },
    {
      "cell_type": "markdown",
      "source": [
        "##Saltos de línea\n",
        "Para que los saltos de línea se vean representados es necesario dar dos saltos de línea o usar \\<br>.<br><br>\n",
        "\n",
        "---"
      ],
      "metadata": {
        "id": "5JNaUeIA1epB"
      }
    },
    {
      "cell_type": "markdown",
      "source": [
        "##Separador\n",
        "\n",
        "---\n",
        "\n",
        "Hay que poner --- de seguido sin ningún texto delante.<br><br>\n",
        "\n",
        "---"
      ],
      "metadata": {
        "id": "GgrIU6ex1iOw"
      }
    },
    {
      "cell_type": "markdown",
      "source": [
        "##Enlaces\n",
        "Los enlaces se ponen [Google](https://www.google.es/) \\[Google](https://www.google.es/).<br><br>\n",
        "\n",
        "---"
      ],
      "metadata": {
        "id": "OzysZV_z1oIw"
      }
    },
    {
      "cell_type": "markdown",
      "source": [
        "##Tabla\n",
        "<table>\n",
        "  <tr>\n",
        "  <td>Celda 1</td>\n",
        "  <td>Celda 2</td>\n",
        "  <td>Celda 3</td>\n",
        "  </tr><tr>\n",
        "  <td>Celda 4</td>\n",
        "  <td>Celda 5</td>\n",
        "  <td>Celda 6</td>\n",
        "  </tr>\n",
        "</table>\n",
        "\n",
        "\n",
        "```\n",
        "<table>\n",
        "  <tr>\n",
        "  <td>Celda 1</td>\n",
        "  <td>Celda 2</td>\n",
        "  <td>Celda 3</td>\n",
        "  </tr><tr>\n",
        "  <td>Celda 4</td>\n",
        "  <td>Celda 5</td>\n",
        "  <td>Celda 6</td>\n",
        "  </tr>\n",
        "</table>\n",
        "```\n",
        "\n",
        "Hay que tener en cuenta de que si das más de 1 tabulación falla.<br><br>"
      ],
      "metadata": {
        "id": "J2a0z1KNuhpy"
      }
    },
    {
      "cell_type": "markdown",
      "source": [
        "#Funciones de Colab"
      ],
      "metadata": {
        "id": "TAjcEKoM2QHa"
      }
    },
    {
      "cell_type": "markdown",
      "source": [
        "##Ver el contenido de su directorio local"
      ],
      "metadata": {
        "id": "EBXitrMj20RJ"
      }
    },
    {
      "cell_type": "code",
      "source": [
        "%ldir"
      ],
      "metadata": {
        "id": "R98dsV6Z23jp",
        "colab": {
          "base_uri": "https://localhost:8080/"
        },
        "outputId": "0510f034-aa02-41cb-b970-deb24573172d"
      },
      "execution_count": null,
      "outputs": [
        {
          "output_type": "stream",
          "name": "stdout",
          "text": [
            "drwxr-xr-x  1 root 4096 Feb  1 14:32 \u001b[0m\u001b[01;34msample_data\u001b[0m/\n",
            "drwxr-xr-x 10 root 4096 Feb 10 21:48 \u001b[01;34mSeleniumBase\u001b[0m/\n"
          ]
        }
      ]
    },
    {
      "cell_type": "code",
      "source": [
        "!ls"
      ],
      "metadata": {
        "colab": {
          "base_uri": "https://localhost:8080/"
        },
        "id": "S6gK14e7Ow0c",
        "outputId": "ad14e6fb-aec0-47dc-cf22-87bd2691c396"
      },
      "execution_count": null,
      "outputs": [
        {
          "output_type": "stream",
          "name": "stdout",
          "text": [
            "sample_data\n"
          ]
        }
      ]
    },
    {
      "cell_type": "markdown",
      "source": [
        "El resultado de !ls también puede guardarse en una variable."
      ],
      "metadata": {
        "id": "IzKVXGwDOzS3"
      }
    },
    {
      "cell_type": "code",
      "source": [
        "# Guardar en variable\n",
        "ListaDirectorios = !ls -1 \"{'./'}\""
      ],
      "metadata": {
        "id": "Cru61GGiOyfT"
      },
      "execution_count": null,
      "outputs": []
    },
    {
      "cell_type": "code",
      "source": [
        "# Imprimir variable\n",
        "ListaDirectorios"
      ],
      "metadata": {
        "colab": {
          "base_uri": "https://localhost:8080/"
        },
        "id": "IjQC0PA9O94n",
        "outputId": "b010e911-4cf9-484e-c082-6111debd4462"
      },
      "execution_count": null,
      "outputs": [
        {
          "output_type": "execute_result",
          "data": {
            "text/plain": [
              "['sample_data']"
            ]
          },
          "metadata": {},
          "execution_count": 20
        }
      ]
    },
    {
      "cell_type": "markdown",
      "source": [
        "##Historial de comandos ejecutados"
      ],
      "metadata": {
        "id": "tJkUexWK3CcE"
      }
    },
    {
      "cell_type": "code",
      "source": [
        "%history"
      ],
      "metadata": {
        "id": "9K-Fr25k3ILB"
      },
      "execution_count": null,
      "outputs": []
    },
    {
      "cell_type": "markdown",
      "source": [
        "##Formulario por Google Colab"
      ],
      "metadata": {
        "id": "kefg-ec4kVOe"
      }
    },
    {
      "cell_type": "code",
      "source": [
        "# Te deja un formulario a la izquierda gracias al comentario de atrás\n",
        "# Escribes lo que quieras y le das a ejecutar\n",
        "\n",
        "# Poner título\n",
        "#@title Texto de título por defecto\n",
        "\n",
        "# Introducir cualquier cosa\n",
        "Algo = \"Rodrigo\" #@param {type: \"raw\"}\n",
        "\n",
        "# Introducir texto\n",
        "Texto = \"Rodrigo\" #@param {type: \"string\"}\n",
        "\n",
        "# Introducir número con decimales\n",
        "NumeroDecimal = 5.0 #@param {type: \"number\"}\n",
        "\n",
        "# Introducir número con entero\n",
        "NumeroEntero = 3 #@param {type: \"integer\"}\n",
        "\n",
        "# Introducir valor con desplegable\n",
        "Desplegable = \"Selecciona\" #@param [\"Cosa1\", \"Cosa2\"] {allow-input: true}\n",
        "\n",
        "# Introducir valor con desplegable con cualquier cosa\n",
        "Desplegable2 = \"Selecciona\" #@param [\"Cosa1\", \"Cosa2\", \"10\"] {type:\"raw\", allow-input: true}\n",
        "\n",
        "# Introducir slider - Valor mínimo (min:0) Valor máximo (max:5) Avance (step:1)\n",
        "Slider = 0 #@param {type: \"slider\", min:0, max:5, step:1}\n",
        "\n",
        "# Introducir fecha\n",
        "Fecha = \"2021-12-15\" #@param {type: \"date\"}\n",
        "\n",
        "# Introducir casilla de verificación\n",
        "Casilla = False #@param {type: \"boolean\"}\n",
        "\n",
        "# Separador\n",
        "#@markdown ---\n",
        "\n",
        "# Imprimir\n",
        "print(\"Hola \"+Texto)"
      ],
      "metadata": {
        "id": "D2oON7ODevAY"
      },
      "execution_count": null,
      "outputs": []
    },
    {
      "cell_type": "markdown",
      "source": [
        "##Código HTML"
      ],
      "metadata": {
        "id": "CpkABwpN3Tf6"
      }
    },
    {
      "cell_type": "code",
      "source": [
        "%%html\n",
        "<marquee style='width: 50%; color: Red; font-size: 1.5em'>¡Bienvenido!</marquee>"
      ],
      "metadata": {
        "id": "16KJyLto3XhZ"
      },
      "execution_count": null,
      "outputs": []
    },
    {
      "cell_type": "code",
      "source": [
        "%%html\n",
        "<iframe width=\"560\" height=\"315\" src=\"https://www.youtube.com/embed/JpE4bYyRADI\" title=\"YouTube video player\" frameborder=\"0\" allow=\"accelerometer; autoplay; clipboard-write; encrypted-media; gyroscope; picture-in-picture\" allowfullscreen></iframe>"
      ],
      "metadata": {
        "id": "8KQTlZKAPuSi"
      },
      "execution_count": null,
      "outputs": []
    },
    {
      "cell_type": "markdown",
      "source": [
        "###Crear un SVG"
      ],
      "metadata": {
        "id": "JNviuedu3gqa"
      }
    },
    {
      "cell_type": "code",
      "source": [
        "%%html\n",
        "<svg xmlns=\"https://www.w3.org/2000/svg\" viewBox=\"0 0 400 300\" width=\"200\" height=\"150\">\n",
        "   <rect x=\"0\" y=\"0\"   width=\"400\" height=\"100\" rx=\"0\" style=\"fill:red; stroke:black; fill-opacity:1.0\" />\n",
        "   <rect x=\"0\" y=\"100\" width=\"400\" height=\"100\" rx=\"0\" style=\"fill:yellow; stroke:black; fill-opacity:1.0;\" />\n",
        "   <rect x=\"0\" y=\"200\" width=\"400\" height=\"100\" rx=\"0\" style=\"fill:red; stroke:black; fill-opacity:1.0;\" />\n",
        "</svg>"
      ],
      "metadata": {
        "id": "BkyutoSL3oEM"
      },
      "execution_count": null,
      "outputs": []
    },
    {
      "cell_type": "markdown",
      "source": [
        "##Lista de magias"
      ],
      "metadata": {
        "id": "7LJeubdI3-Tx"
      }
    },
    {
      "cell_type": "code",
      "source": [
        "%lsmagic"
      ],
      "metadata": {
        "id": "pyb4DPNF3_eR"
      },
      "execution_count": null,
      "outputs": []
    },
    {
      "cell_type": "markdown",
      "source": [
        "##Ejecutar comandos de Linux\n",
        "Parece que el sistema está montado sobre Linux por lo que permite ejecutar comandos del sistema operativo.\n",
        "\n",
        "Para ello es necesario poner ! delante del comando."
      ],
      "metadata": {
        "id": "YTZloBlYJKxm"
      }
    },
    {
      "cell_type": "code",
      "source": [
        "# Mostrar contenido de la carpeta actual\n",
        "!ls"
      ],
      "metadata": {
        "id": "8yvkW0c8JbOc"
      },
      "execution_count": null,
      "outputs": []
    },
    {
      "cell_type": "markdown",
      "source": [
        "##Descargarlos archivos\n",
        "\n",
        "[Como descargar los archivos](https://www.adictosaltrabajo.com/2019/06/04/google-colab-python-y-machine-learning-en-la-nube/)\n",
        "\n",
        "\n",
        "```\n",
        "# Importar librería\n",
        "from google.colab import drive\n",
        "\n",
        "# De la unidad del disco\n",
        "files.download(\"ejemplo.csv\")\n",
        "```"
      ],
      "metadata": {
        "id": "mHMItT-dnI0N"
      }
    },
    {
      "cell_type": "markdown",
      "source": [
        "##Crear archivos y carpetas"
      ],
      "metadata": {
        "id": "y2dXMLgso3ZD"
      }
    },
    {
      "cell_type": "code",
      "source": [
        "# Crar archivo dentro de la carpeta\n",
        "!touch Archivo.txt\n",
        "\n",
        "# Crear carpeta\n",
        "!mkdir Carpeta_prueba\n",
        "# Crear carpeta\n",
        "!mkdir ./Carpeta_prueba/Subarpeta_prueba"
      ],
      "metadata": {
        "colab": {
          "base_uri": "https://localhost:8080/"
        },
        "id": "enWUQugQo3x6",
        "outputId": "1da0c76a-4a30-4a28-f8bb-dce875fb1064"
      },
      "execution_count": null,
      "outputs": [
        {
          "output_type": "stream",
          "name": "stdout",
          "text": [
            "mkdir: cannot create directory ‘Carpeta_prueba’: File exists\n"
          ]
        }
      ]
    },
    {
      "cell_type": "markdown",
      "source": [
        "##Borrar archivos y carpetas"
      ],
      "metadata": {
        "id": "Wb0ePwDsqXLc"
      }
    },
    {
      "cell_type": "code",
      "source": [
        "# Borrar archivo\n",
        "!rm Archivo.txt\n",
        "\n",
        "# Borrar carpeta aunque esta contenga algo\n",
        "!rm -Rf Carpeta_prueba"
      ],
      "metadata": {
        "id": "VxUCJf3-qZia"
      },
      "execution_count": null,
      "outputs": []
    },
    {
      "cell_type": "markdown",
      "source": [
        "##Subir archivos"
      ],
      "metadata": {
        "id": "z6Nlb4vo0UgE"
      }
    },
    {
      "cell_type": "code",
      "source": [
        "# Importar librería\n",
        "from google.colab import files\n",
        "\n",
        "# Botón para elegir y subir archivo\n",
        "uploaded = files.upload()"
      ],
      "metadata": {
        "id": "C6ii98pP0WfM"
      },
      "execution_count": null,
      "outputs": []
    },
    {
      "cell_type": "markdown",
      "source": [
        "##Moverse por las carpetas\n",
        "No poner comentario de texto después de %cd o dará un fallo"
      ],
      "metadata": {
        "id": "KqGGGYseZdzA"
      }
    },
    {
      "cell_type": "code",
      "source": [
        "print(\"--Contenido del directorio actual\") #Mensaje de texto\n",
        "!ls #Mostrar contenido de la carpeta actual\n",
        "\n",
        "\n",
        "print(\"\\n\\n--Entro a la carpeta\") #Mensaje de texto\n",
        "#Entrar en la carpeta sample_data\n",
        "%cd sample_data\n",
        "\n",
        "\n",
        "print(\"\\n--Contenido del directorio actual\") #Mensaje de texto\n",
        "!ls #Mostrar contenido de la carpeta actual\n",
        "\n",
        "\n",
        "print(\"\\n\\n--Salió de la carpeta\") #Mensaje de texto\n",
        "#Salir de la carpeta actual\n",
        "%cd ..\n",
        "\n",
        "\n",
        "print(\"\\n--Contenido del directorio actual\") #Mensaje de texto\n",
        "!ls #Mostrar contenido de la carpeta actual"
      ],
      "metadata": {
        "id": "BmhzVlvvZeM7"
      },
      "execution_count": null,
      "outputs": []
    },
    {
      "cell_type": "markdown",
      "source": [
        "##Montar y desmonta unidad de Google Drive"
      ],
      "metadata": {
        "id": "kcc8jMqMMF5c"
      }
    },
    {
      "cell_type": "code",
      "source": [
        "# Importar librería\n",
        "from google.colab import drive\n",
        "\n",
        "# Elegir sitio donde quieres que se monte la carpeta de drive\n",
        "drive.mount('/content/drive')"
      ],
      "metadata": {
        "colab": {
          "base_uri": "https://localhost:8080/"
        },
        "id": "lu02MVH4MFb1",
        "outputId": "20fdcae9-69a2-4a3f-ec89-f400dd3d4e8b"
      },
      "execution_count": null,
      "outputs": [
        {
          "output_type": "stream",
          "name": "stdout",
          "text": [
            "Mounted at /content/drive\n"
          ]
        }
      ]
    },
    {
      "cell_type": "code",
      "source": [
        "# Desmontar la conexión con Drive\n",
        "drive.flush_and_unmount()"
      ],
      "metadata": {
        "id": "bRe_KKWcMub_"
      },
      "execution_count": null,
      "outputs": []
    },
    {
      "cell_type": "markdown",
      "source": [
        "#Pruebas básicas de Python\n",
        "Imagina los bloques de código ejecutable como texto que añades a una terminal\n",
        "\n",
        "Las variables no podrán accederse de un bloque a otro a excepción si este se ha ejecutado con anterioridad\n"
      ],
      "metadata": {
        "id": "iFupMmr9oXZw"
      }
    },
    {
      "cell_type": "markdown",
      "source": [
        "##Prueba de impresión Python"
      ],
      "metadata": {
        "id": "Tok5C0kuM-xD"
      }
    },
    {
      "cell_type": "code",
      "execution_count": null,
      "metadata": {
        "colab": {
          "base_uri": "https://localhost:8080/"
        },
        "id": "bNa1Ya0PM2-J",
        "outputId": "92b4882a-651f-402d-9fd3-f8b4d514cb80"
      },
      "outputs": [
        {
          "output_type": "stream",
          "name": "stdout",
          "text": [
            "Saludos\n"
          ]
        }
      ],
      "source": [
        "# Imprimir\n",
        "print(\"Saludos\")"
      ]
    },
    {
      "cell_type": "markdown",
      "source": [
        "##Variable\n",
        "Para concatenar una variable con números es necesario transformarla en texto, esto se puede hacer metiéndola en str()"
      ],
      "metadata": {
        "id": "NrgmLXyvNLgk"
      }
    },
    {
      "cell_type": "code",
      "source": [
        "# Variables\n",
        "texto=\"Informacion\"\n",
        "numeros=777\n",
        "\n",
        "# Imprimir\n",
        "print(texto+\" concatenar \"+str(numeros))\n",
        "\n",
        "# Imprimir\n",
        "print(texto,\"concatenar\",numeros)"
      ],
      "metadata": {
        "colab": {
          "base_uri": "https://localhost:8080/"
        },
        "id": "ucKXJ3KqNNJ9",
        "outputId": "39cfdf45-9747-4eea-95d9-87dc699a5c7b"
      },
      "execution_count": null,
      "outputs": [
        {
          "output_type": "stream",
          "name": "stdout",
          "text": [
            "Informacion concatenar 777\n",
            "Informacion concatenar 777\n"
          ]
        }
      ]
    },
    {
      "cell_type": "markdown",
      "source": [
        "##Entrada de variables"
      ],
      "metadata": {
        "id": "_3OmCiscN9-9"
      }
    },
    {
      "cell_type": "code",
      "source": [
        "# Preguntar y guardar en variables\n",
        "Nombre = input(\"¿Cómo te llamas? \")\n",
        "\n",
        "# Imprimir\n",
        "print(\"Hola \"+Nombre)"
      ],
      "metadata": {
        "id": "NY7YJTTWOJx7",
        "colab": {
          "base_uri": "https://localhost:8080/"
        },
        "outputId": "1a067628-43b0-414d-94b6-0ccf045c0d43"
      },
      "execution_count": null,
      "outputs": [
        {
          "output_type": "stream",
          "name": "stdout",
          "text": [
            "¿Cómo te llamas? Xaival\n",
            "Hola Xaival\n"
          ]
        }
      ]
    },
    {
      "cell_type": "markdown",
      "source": [
        "##Condicionales\n",
        "En este caso como hay que hacer cálculos con el número introducido, pero este está en tipo texto hay que meterlo en un int()\n",
        "\n"
      ],
      "metadata": {
        "id": "bjjdJGgPSDNG"
      }
    },
    {
      "cell_type": "markdown",
      "source": [
        "###If y else"
      ],
      "metadata": {
        "id": "-D4_epXebdUH"
      }
    },
    {
      "cell_type": "code",
      "source": [
        "# Variables\n",
        "Altura = int(input(\"¿Cuánto mides? \"))\n",
        "\n",
        "# Condicional - Si es mayor o igual que 185\n",
        "if Altura >= 185:\n",
        "  # Imprimir\n",
        "  print(\"Eres una persona alta!!!\")\n",
        "# En caso opuesto\n",
        "else:\n",
        "  # Imprimir\n",
        "  print(\"Eres Bajito!!\")"
      ],
      "metadata": {
        "id": "zypbj4HySExe"
      },
      "execution_count": null,
      "outputs": []
    },
    {
      "cell_type": "markdown",
      "source": [
        "###Equivalente a switch"
      ],
      "metadata": {
        "id": "fU9TjqaVbPe9"
      }
    },
    {
      "cell_type": "code",
      "source": [
        "dia = 4\n",
        "\n",
        "if dia == 1: print('Lunes')\t\t\t\t# Si es 1\n",
        "elif dia == 2: print('Martes')\t\t# Si no ha sido el anterior y es 2\n",
        "elif dia == 3: print('Miércoles') # Si no ha sido los anteriores y es 3\n",
        "elif dia == 4: print('Jueves')\t\t# Si no ha sido los anteriores y es 4\t\n",
        "elif dia == 5: print('Viernes')\t\t# Si no ha sido los anteriores y es 5\t\n",
        "elif dia == 6: print('Sábado')\t\t# Si no ha sido los anteriores y es 6\n",
        "elif dia == 7: print('Domingo')\t\t# Si no ha sido los anteriores y es 7\n",
        "else: print('Error')\t\t\t\t\t\t\t# Si no ha sido los anteriores"
      ],
      "metadata": {
        "id": "9vlaSPtqbOdu"
      },
      "execution_count": null,
      "outputs": []
    },
    {
      "cell_type": "markdown",
      "source": [
        "##Funciones"
      ],
      "metadata": {
        "id": "9cjGkxmAT5s-"
      }
    },
    {
      "cell_type": "code",
      "source": [
        "# Función\n",
        "def mostrarAltura():\n",
        "    # Imprimir\n",
        "    print(\"Soy nuevo aquí\")\n",
        "\n",
        "# Llamada a función 2 veces\n",
        "mostrarAltura()\n",
        "mostrarAltura()\n"
      ],
      "metadata": {
        "id": "qitDCWj2T7v2"
      },
      "execution_count": null,
      "outputs": []
    },
    {
      "cell_type": "markdown",
      "source": [
        "##Funciones con variables"
      ],
      "metadata": {
        "id": "xRoMr6FBUqp_"
      }
    },
    {
      "cell_type": "code",
      "source": [
        "# Función\n",
        "def mostrarAltura(X):\n",
        "    # Imprimir\n",
        "    print(\"-\"+X)\n",
        "\n",
        "# Llamada a función con variable\n",
        "mostrarAltura(input(\"Escribe algo: \"))"
      ],
      "metadata": {
        "id": "QnpP-1l7UuQ3"
      },
      "execution_count": null,
      "outputs": []
    },
    {
      "cell_type": "markdown",
      "source": [
        "##Extraer datos de una función"
      ],
      "metadata": {
        "id": "RC2V01rNWAT4"
      }
    },
    {
      "cell_type": "code",
      "source": [
        "# Función\n",
        "def mostrarAltura():\n",
        "    resultado = \"Libertad\"\n",
        "    return resultado\n",
        "\n",
        "# Guardar la salida de la funcion\n",
        "ResultadoFuncion = mostrarAltura()\n",
        "\n",
        "# Imprimir\n",
        "print(ResultadoFuncion)"
      ],
      "metadata": {
        "id": "qd2c9_KfWECJ"
      },
      "execution_count": null,
      "outputs": []
    },
    {
      "cell_type": "markdown",
      "source": [
        "##Arrays"
      ],
      "metadata": {
        "id": "-NJfz8eBXCz4"
      }
    },
    {
      "cell_type": "code",
      "source": [
        "# Variable Array (La lista está enumerada empezando por 0)\n",
        "personas = [\"Víctor\", \"Paco\", \"Pepe\"]\n",
        "\n",
        "# Imprimir segunda persona\n",
        "print(personas[2])\n",
        "\n",
        "# Imprimir número de valores del array\n",
        "print(len(personas))"
      ],
      "metadata": {
        "id": "K0Ke2NISXji6"
      },
      "execution_count": null,
      "outputs": []
    },
    {
      "cell_type": "markdown",
      "source": [
        "##Bucle"
      ],
      "metadata": {
        "id": "fd_a-V7lYHHI"
      }
    },
    {
      "cell_type": "code",
      "source": [
        "# Variable Array (La lista está enumerada empezando por 0)\n",
        "personas = [\"Víctor\", \"Paco\", \"Pepe\"]\n",
        "\n",
        "# Bucle este se ejecutará el mismo número que elementos en la lista\n",
        "# persona sirve para guardar el valor equivalente a personas[2] con la diferencia que por cada ejecución pasa al siguiente\n",
        "for persona in personas:\n",
        "  # Imprimir persona de uno a uno por ejecución del bucle\n",
        "  print(persona)"
      ],
      "metadata": {
        "id": "D7GNPlOMYLov"
      },
      "execution_count": null,
      "outputs": []
    },
    {
      "cell_type": "markdown",
      "source": [
        "##Matemáticas"
      ],
      "metadata": {
        "id": "M9JNe3xJZbxB"
      }
    },
    {
      "cell_type": "code",
      "source": [
        "# Variable\n",
        "a=5\n",
        "b=15\n",
        "\n",
        "# Imprimir suma de variables anteriores\n",
        "print(a+b)\n",
        "# Imprimir resta de variables anteriores\n",
        "print(a-b)\n",
        "\n",
        "# Imprimir multiplicación de variables anteriores\n",
        "print(a*b)\n",
        "# Imprimir división de variables anteriores\n",
        "print(a/b)"
      ],
      "metadata": {
        "id": "5CdX2P2wYw6P"
      },
      "execution_count": null,
      "outputs": []
    },
    {
      "cell_type": "markdown",
      "source": [
        "##Representación gráfica\n",
        "Importar librería para plotear <a href=\"https://colab.research.google.com/notebooks/charts.ipynb\">más información</a>"
      ],
      "metadata": {
        "id": "Tei3i_uGaCR7"
      }
    },
    {
      "cell_type": "code",
      "source": [
        "# Importar librería matplotlib.pyplot. Sirve para visualizar los datos en gráficas\n",
        "import matplotlib.pyplot as plt\n",
        "\n",
        "# Grupo de variables\n",
        "x=[1,2,3,4,5]\n",
        "y=[1,4,9,16,25]\n",
        "\n",
        "# Registrar líneas\n",
        "plt.plot(x,y)\n",
        "\n",
        "# Representar\n",
        "plt.show()"
      ],
      "metadata": {
        "id": "k6VfVuG5aFVg"
      },
      "execution_count": null,
      "outputs": []
    },
    {
      "cell_type": "code",
      "source": [
        "# Importar librería matplotlib.pyplot. Sirve para visualizar los datos en gráficas\n",
        "import matplotlib.pyplot as plt\n",
        "\n",
        "# Grupo de variables\n",
        "x=[0,1,2,3,4,5]\n",
        "y=[0,1,4,9,16,25]\n",
        "\n",
        "# Registrar líneas\n",
        "plt.plot(x,y)\n",
        "plt.plot([0,5], [0,25])\n",
        "\n",
        "# Asignar nombres\n",
        "plt.title('Gráfica de muestra') # Agrego un título\n",
        "plt.ylabel('Eje Y') # Asignar nombre al eje y\n",
        "plt.xlabel('Eje X') # Asignar nombre al eje x\n",
        "\n",
        "plt.grid(True)  # Esto se encarga de que sea cuadriculada la figura\n",
        "# Representar\n",
        "plt.show()"
      ],
      "metadata": {
        "id": "p0aZFsy1bmMg"
      },
      "execution_count": null,
      "outputs": []
    },
    {
      "cell_type": "markdown",
      "source": [
        "##Pruebas completas"
      ],
      "metadata": {
        "id": "xpyZTZLZncCf"
      }
    },
    {
      "cell_type": "markdown",
      "source": [
        "###Prueba 1 Respuesta de profesorado"
      ],
      "metadata": {
        "id": "vhYxHth5t0k4"
      }
    },
    {
      "cell_type": "code",
      "source": [
        "# Introducir valor con desplegable\n",
        "lista = 'Bachillerato' #@param [\"Secundaria\", \"Bachillerato\", \"Superior\"] {allow-input: true}\n",
        "\n",
        "# Introducir número con decimales\n",
        "a = 3 #@param {type: \"number\"}\n",
        "# Introducir número con decimales\n",
        "b = -2 #@param {type: \"number\"}\n",
        "# Introducir número con decimales\n",
        "c = -3 #@param {type: \"number\"}\n"
      ],
      "metadata": {
        "id": "Bfc3k75ClQTG"
      },
      "execution_count": null,
      "outputs": []
    },
    {
      "cell_type": "code",
      "source": [
        "# Importar librería\n",
        "import math\n",
        "\n",
        "# Buscar condicional puesta en el anterior. (Si no ejecutas el anterior dará error, ya que no estarán guardadas las variables)\n",
        "if lista == \"Secundaria\":\n",
        "    explicacion = \"Los valores de x1 y x2 son: \"\n",
        "if lista == \"Bachillerato\":\n",
        "    explicacion = \"Los puntos de intersección con el eje de las x son: \"\n",
        "if lista == \"Superior\":\n",
        "    explicacion = \"Las soluciones de la ecuación son: \"\n",
        "\n",
        "# Imprimir valores\n",
        "print(a,b,c)\n",
        "\n",
        "# Hacer cálculos\n",
        "x1=(-b-math.sqrt(pow(b,2)-(4*a*c)))/(2*a)\n",
        "x2=(-b-math.sqrt(pow(b,2)-(4*a*c)))/(2*a)\n",
        "\n",
        "# Imprimir\n",
        "print(explicacion)\n",
        "print(x1)\n",
        "print(x2)"
      ],
      "metadata": {
        "id": "BPoHjGqQl5nf"
      },
      "execution_count": null,
      "outputs": []
    },
    {
      "cell_type": "markdown",
      "source": [
        "###Prueba 2 Días que han pasado"
      ],
      "metadata": {
        "id": "PbfDJ2ZmpTcf"
      }
    },
    {
      "cell_type": "code",
      "source": [
        "# Introducir fecha\n",
        "fecha1 = \"2022-1-16\" #@param {type: \"date\"}\n",
        "fecha2 = \"2022-01-25\" #@param {type: \"date\"}"
      ],
      "metadata": {
        "id": "hY2YdkMLpkA9"
      },
      "execution_count": null,
      "outputs": []
    },
    {
      "cell_type": "code",
      "source": [
        "# Importar librería\n",
        "from datetime import datetime\n",
        "\n",
        "# Convertir de tipo string a fecha\n",
        "Fecha1 = datetime.strptime(fecha1,\"%Y-%m-%d\")\n",
        "Fecha2 = datetime.strptime(fecha2,\"%Y-%m-%d\")\n",
        "\n",
        "# Calcular diferencia entre la primera fecha y la segunda\n",
        "dif = Fecha2 - Fecha1\n",
        "\n",
        "# Comprobar si la diferencia es mayor a 1 día\n",
        "# .days sirve para convertir el valor de fecha a un int\n",
        "if dif.days > 1:\n",
        "  # Imprimir diferencia en días\n",
        "  print(\"Hay una diferencia de \"+str(dif.days)+\" días\")\n",
        "else:\n",
        "  # Imprimir diferencia en día\n",
        "  print(\"Hay una diferencia de \"+str(dif.days)+\" día\")"
      ],
      "metadata": {
        "id": "xVfxd8mTp4HP"
      },
      "execution_count": null,
      "outputs": []
    },
    {
      "cell_type": "markdown",
      "source": [
        "###Prueba 3 Casilla verificación"
      ],
      "metadata": {
        "id": "4XOQ76actOwr"
      }
    },
    {
      "cell_type": "code",
      "source": [
        "viaje = False #@param {type:\"boolean\"}\n",
        "if viaje == True:\n",
        "  print(\"Por favor de esperar la resolución\")\n",
        "else:\n",
        "  print(\"Adelante puede pasar\")"
      ],
      "metadata": {
        "id": "ZkMRbGeptSdC"
      },
      "execution_count": null,
      "outputs": []
    },
    {
      "cell_type": "markdown",
      "source": [
        "###Prueba 4 Web Scraping"
      ],
      "metadata": {
        "id": "DjhTAdY1NiAY"
      }
    },
    {
      "cell_type": "markdown",
      "source": [
        "####Requests"
      ],
      "metadata": {
        "id": "B06UoHK9tvrs"
      }
    },
    {
      "cell_type": "code",
      "source": [
        "# Importar librería requests. La librería para hacer peticiones http en Python\n",
        "import requests\n",
        "# Importar librería Beautiful Soup para analizar documentos HTML.\n",
        "from bs4 import BeautifulSoup\n",
        "\n",
        "# Poner URL de la variable\n",
        "URL = \"https://xaival.neocities.org/Chrome%20Home/Home.html\" #@param {type: \"string\"}\n",
        "\n",
        "# Obtener contenido de la página por petición GET\n",
        "r = requests.get(URL)\n",
        "# Convertir por BeautifulSoup a formato manejable por la librería \n",
        "soup = BeautifulSoup(r.text, 'lxml')\n",
        "\n",
        "# Imprimir \n",
        "#print(soup) # Página completa\n",
        "print(soup.title) # Título de la página\n",
        "print(soup.li) # Primer elemento li\n",
        "print(soup.li.string) # Primer elemento li sin etiquetas html\n",
        "print(soup.li.a) # Primer elemento li\n",
        "print(soup.find(id='GoogleDrive')) # Primero con el ID Google Drive\n",
        "print(soup.find(class_='encabezado')) # Primero con .encabezado\n",
        "print(soup.find_all(class_='encabezado')[1].string) # Segundo .encabezado sin etiquetas html\n",
        "print(soup.body.find_all(class_='encabezado')[1]) # Dentro body y Segundo .encabezado\n",
        "#for enlace in soup.find_all('li'): print(enlace) # Todos los elementos li\n"
      ],
      "metadata": {
        "id": "MQX-Om7sNhvA"
      },
      "execution_count": null,
      "outputs": []
    },
    {
      "cell_type": "markdown",
      "source": [
        "####Selenium"
      ],
      "metadata": {
        "id": "FzNZ4iYttqin"
      }
    },
    {
      "cell_type": "code",
      "source": [
        "#Selenium es una biblioteca que le permite interactuar con páginas web\n",
        "!pip install selenium\n",
        "#Importar libreria selenium\n",
        "from selenium import webdriver\n",
        "#Se actualizan los listados de paquetes disponibles en las fuentes definidas en el archivo sources\n",
        "!apt update\n",
        "#Instalación rápida de chromium-chromedriver\n",
        "!apt install chromium-chromedriver\n",
        "# Importar librería Beautiful Soup para analizar documentos HTML.\n",
        "from bs4 import BeautifulSoup"
      ],
      "metadata": {
        "id": "cO3_3gSAuLpA"
      },
      "execution_count": null,
      "outputs": []
    },
    {
      "cell_type": "code",
      "source": [
        "#Crear Chrome Options\n",
        "options = webdriver.ChromeOptions()\n",
        "options.add_argument('--headless')\n",
        "options.add_argument('--no-sandbox') #Permisos de google colab\n",
        "options.add_argument('disable-dev-shm-usage') #Recursos limitados\n",
        "\n",
        "# Abrir un navegador\n",
        "wd = webdriver.Chrome(options=options)\n",
        "\n",
        "# Poner URL de la variable\n",
        "URL = \"https://xaival.neocities.org/Chrome%20Home/Home.html\" #@param {type: \"string\"}\n",
        "\n",
        "# Navegar a la página\n",
        "wd.get(URL)\n",
        "# Convertir por BeautifulSoup a formato manejable por la librería \n",
        "soup = BeautifulSoup(wd.page_source, 'lxml')\n",
        "\n",
        "# Imprimir \n",
        "#print(soup) # Página completa\n",
        "print(soup.title) # Título de la página\n",
        "print(soup.li) # Primer elemento li\n",
        "print(soup.li.string) # Primer elemento li sin etiquetas html\n",
        "print(soup.li.a) # Primer elemento li\n",
        "print(soup.find(id='GoogleDrive')) # Primero con el ID Google Drive\n",
        "print(soup.find(class_='encabezado')) # Primero con .encabezado\n",
        "print(soup.find_all(class_='encabezado')[1].string) # Segundo .encabezado sin etiquetas html\n",
        "print(soup.body.find_all(class_='encabezado')[1]) # Dentro body y Segundo .encabezado\n",
        "#for enlace in soup.find_all('li'): print(enlace) # Todos los elementos li"
      ],
      "metadata": {
        "id": "Q4xpOspms4Jl"
      },
      "execution_count": null,
      "outputs": []
    },
    {
      "cell_type": "markdown",
      "source": [
        "#Librerías"
      ],
      "metadata": {
        "id": "5yM1gIvDi4Xf"
      }
    },
    {
      "cell_type": "markdown",
      "source": [
        "##Limpiar terminal"
      ],
      "metadata": {
        "id": "HlQfLlmqIqsl"
      }
    },
    {
      "cell_type": "code",
      "source": [
        "# Preguntar y guardar en variables\n",
        "Nombre = input(\"¿Cómo te llamas? \")\n",
        "\n",
        "# Es necesario para que funcione importar la librería IPython.display\n",
        "from IPython.display import clear_output\n",
        "\n",
        "# Limpiar pantalla\n",
        "clear_output()\n",
        "\n",
        "# Imprimir\n",
        "print(\"Hola \"+Nombre)"
      ],
      "metadata": {
        "colab": {
          "base_uri": "https://localhost:8080/"
        },
        "id": "5X7wjKvjIvKG",
        "outputId": "1a6684b1-3cfc-4cdd-a3d6-df73ccccea25"
      },
      "execution_count": null,
      "outputs": [
        {
          "output_type": "stream",
          "name": "stdout",
          "text": [
            "Hola Xaival\n"
          ]
        }
      ]
    },
    {
      "cell_type": "markdown",
      "source": [
        "##Descargar imágenes"
      ],
      "metadata": {
        "id": "KDwlSlf8i7cH"
      }
    },
    {
      "cell_type": "code",
      "source": [
        "#Importar librería\n",
        "import requests\n",
        "\n",
        "#Apuntar URL\n",
        "url = 'https://www.python.org/static/img/python-logo@2x.png'\n",
        "#Ubicacion de descarga y nombre resultante\n",
        "ubicacion = './PythonImage.png'\n",
        "\n",
        "#Guardar imagen\n",
        "open(ubicacion, 'wb').write(requests.get(url).content)"
      ],
      "metadata": {
        "id": "e1_-R9Vii9sJ"
      },
      "execution_count": null,
      "outputs": []
    },
    {
      "cell_type": "code",
      "source": [
        "#Instalar\n",
        "!pip install wget\n",
        "#Importar libreria\n",
        "import wget\n",
        "\n",
        "#Apuntar URL\n",
        "url = 'https://www.python.org/static/img/python-logo@2x.png' \n",
        "#Ubicacion de descarga y nombre resultante\n",
        "ubicacion = './PythonImage.png'\n",
        "\n",
        "#Guardar imagen\n",
        "wget.download(url, ubicacion)"
      ],
      "metadata": {
        "id": "tmPuwyFjkd3n"
      },
      "execution_count": null,
      "outputs": []
    },
    {
      "cell_type": "code",
      "source": [
        "#Importar librería\n",
        "import urllib.request\n",
        "\n",
        "#Apuntar URL\n",
        "url = 'https://www.python.org/static/img/python-logo@2x.png' \n",
        "#Ubicacion de descarga y nombre resultante\n",
        "ubicacion = './PythonImage.png'\n",
        "\n",
        "urllib.request.urlretrieve(url, ubicacion)"
      ],
      "metadata": {
        "id": "7emmXgEdlZ7e"
      },
      "execution_count": null,
      "outputs": []
    }
  ]
}